{
 "cells": [
  {
   "cell_type": "markdown",
   "metadata": {},
   "source": [
    "<img src=\"Analysis.jpg\" width=1000 height=600  align=\"center\">"
   ]
  },
  {
   "cell_type": "markdown",
   "metadata": {},
   "source": [
    "### 1.  PySpark environment setup"
   ]
  },
  {
   "cell_type": "code",
   "execution_count": 9,
   "metadata": {},
   "outputs": [
    {
     "data": {
      "text/html": [
       "<style>.container { width:100% !important; }</style>"
      ],
      "text/plain": [
       "<IPython.core.display.HTML object>"
      ]
     },
     "metadata": {},
     "output_type": "display_data"
    },
    {
     "data": {
      "text/html": [
       "<style>.rendered_html { font-size: 16px; }</style>"
      ],
      "text/plain": [
       "<IPython.core.display.HTML object>"
      ]
     },
     "metadata": {},
     "output_type": "display_data"
    }
   ],
   "source": [
    "from IPython.core.display import display, HTML\n",
    "\n",
    "display(HTML(\"<style>.container { width:100% !important; }</style>\")) # Increase cell width\n",
    "display(HTML(\"<style>.rendered_html { font-size: 16px; }</style>\")) # Increase font size"
   ]
  },
  {
   "cell_type": "code",
   "execution_count": 10,
   "metadata": {},
   "outputs": [],
   "source": [
    "import findspark\n",
    "findspark.init()\n",
    "\n",
    "from pyspark.context import SparkContext\n",
    "from pyspark.sql.session import SparkSession\n",
    "\n",
    "sc = SparkContext.getOrCreate()\n",
    "spark = SparkSession(sc)"
   ]
  },
  {
   "cell_type": "code",
   "execution_count": 11,
   "metadata": {},
   "outputs": [
    {
     "data": {
      "text/plain": [
       "'3.7.3 (default, Jul 25 2020, 13:03:44) \\n[GCC 8.3.0]'"
      ]
     },
     "execution_count": 11,
     "metadata": {},
     "output_type": "execute_result"
    }
   ],
   "source": [
    "import sys\n",
    "sys.version"
   ]
  },
  {
   "cell_type": "markdown",
   "metadata": {},
   "source": [
    "### 2. Load packages"
   ]
  },
  {
   "cell_type": "code",
   "execution_count": 12,
   "metadata": {},
   "outputs": [],
   "source": [
    "import pyspark\n",
    "from pyspark import SparkConf\n",
    "from pyspark import SparkContext\n",
    "from pyspark.sql import SQLContext\n",
    "import matplotlib.pyplot as plt\n",
    "from numpy import array\n",
    "import numpy as np\n",
    "from IPython.display import display, Markdown\n",
    "import matplotlib.pyplot as plt\n",
    "from pyspark.sql.types import IntegerType\n",
    "from pyspark.sql.functions import *\n",
    "#from pyspark.sql.functions import when, count, col, countDistinct, desc, first, lit, min, max, UserDefinedFunction, sum, avg, UserDefinedFunction"
   ]
  },
  {
   "cell_type": "markdown",
   "metadata": {},
   "source": [
    "### 3. Import data"
   ]
  },
  {
   "cell_type": "code",
   "execution_count": 50,
   "metadata": {},
   "outputs": [
    {
     "data": {
      "text/plain": [
       "DataFrame[State: string, Year: int, Type_code: string, Type: string, Gender: string, Age_group: string, Total: int]"
      ]
     },
     "execution_count": 50,
     "metadata": {},
     "output_type": "execute_result"
    }
   ],
   "source": [
    "df = spark.read \\\n",
    "                 .option(\"inferSchema\", \"true\") \\\n",
    "                 .option(\"header\", \"true\") \\\n",
    "                 .csv(\"Suicides in India 2001-2012.csv\")\n",
    "\n",
    "df.cache()"
   ]
  },
  {
   "cell_type": "markdown",
   "metadata": {},
   "source": [
    "### 4. Data Description\n",
    "\n",
    "The dataset chosen here is provided by the **National Crime Records Bureau (NCRB)** of India.  \n",
    "\n",
    "The details on the data set are:\n",
    "* Time period ranges from 2001 to 2012\n",
    "* It is yearly data \n",
    "* The location is India\n",
    "\n",
    "The columns include:\n",
    "* State\n",
    "* Year\n",
    "* Type_code (Mainly shows the causes and background info, such as education status, professional profile, how suicide was comitted, social status and the cause for comittng suicide)\n",
    "* Type (Further specifies the type_code)\n",
    "* Gender\n",
    "* Age_group\n",
    "* Total (Total number of suicides comitted)\n",
    "\n",
    "\n"
   ]
  },
  {
   "cell_type": "markdown",
   "metadata": {},
   "source": [
    "### 5. EDA "
   ]
  },
  {
   "cell_type": "markdown",
   "metadata": {},
   "source": [
    "General overview of the data:"
   ]
  },
  {
   "cell_type": "code",
   "execution_count": 51,
   "metadata": {
    "scrolled": false
   },
   "outputs": [
    {
     "name": "stdout",
     "output_type": "stream",
     "text": [
      "+-------------+----+---------+--------------------+------+---------+-----+\n",
      "|        State|Year|Type_code|                Type|Gender|Age_group|Total|\n",
      "+-------------+----+---------+--------------------+------+---------+-----+\n",
      "|A & N Islands|2001|   Causes|  Illness (Aids/STD)|Female|     0-14|    0|\n",
      "|A & N Islands|2001|   Causes|Bankruptcy or Sud...|Female|     0-14|    0|\n",
      "|A & N Islands|2001|   Causes|Cancellation/Non-...|Female|     0-14|    0|\n",
      "|A & N Islands|2001|   Causes|Physical Abuse (R...|Female|     0-14|    0|\n",
      "|A & N Islands|2001|   Causes|       Dowry Dispute|Female|     0-14|    0|\n",
      "|A & N Islands|2001|   Causes|     Family Problems|Female|     0-14|    0|\n",
      "|A & N Islands|2001|   Causes|Ideological Cause...|Female|     0-14|    0|\n",
      "|A & N Islands|2001|   Causes|Other Prolonged I...|Female|     0-14|    0|\n",
      "|A & N Islands|2001|   Causes|    Property Dispute|Female|     0-14|    0|\n",
      "|A & N Islands|2001|   Causes|Fall in Social Re...|Female|     0-14|    0|\n",
      "+-------------+----+---------+--------------------+------+---------+-----+\n",
      "only showing top 10 rows\n",
      "\n"
     ]
    }
   ],
   "source": [
    "df.show(10) "
   ]
  },
  {
   "cell_type": "markdown",
   "metadata": {},
   "source": [
    "The total number of records:"
   ]
  },
  {
   "cell_type": "code",
   "execution_count": 52,
   "metadata": {
    "scrolled": false
   },
   "outputs": [
    {
     "name": "stdout",
     "output_type": "stream",
     "text": [
      "Total Records in dataset 237519\n"
     ]
    }
   ],
   "source": [
    "print('Total Records in dataset', df.count())"
   ]
  },
  {
   "cell_type": "markdown",
   "metadata": {},
   "source": [
    "The schema of the data set:"
   ]
  },
  {
   "cell_type": "code",
   "execution_count": 53,
   "metadata": {
    "scrolled": true
   },
   "outputs": [
    {
     "name": "stdout",
     "output_type": "stream",
     "text": [
      "root\n",
      " |-- State: string (nullable = true)\n",
      " |-- Year: integer (nullable = true)\n",
      " |-- Type_code: string (nullable = true)\n",
      " |-- Type: string (nullable = true)\n",
      " |-- Gender: string (nullable = true)\n",
      " |-- Age_group: string (nullable = true)\n",
      " |-- Total: integer (nullable = true)\n",
      "\n"
     ]
    },
    {
     "data": {
      "text/markdown": [
       "This DataFrame has **237519 rows**."
      ],
      "text/plain": [
       "<IPython.core.display.Markdown object>"
      ]
     },
     "metadata": {},
     "output_type": "display_data"
    }
   ],
   "source": [
    "df.printSchema()\n",
    "display(Markdown(\"This DataFrame has **%d rows**.\" % df.count()))"
   ]
  },
  {
   "cell_type": "markdown",
   "metadata": {},
   "source": [
    "Wich columns do we have?"
   ]
  },
  {
   "cell_type": "code",
   "execution_count": 57,
   "metadata": {
    "scrolled": true
   },
   "outputs": [
    {
     "data": {
      "text/plain": [
       "['State', 'Year', 'Type_code', 'Type', 'Gender', 'Age_group', 'Total']"
      ]
     },
     "execution_count": 57,
     "metadata": {},
     "output_type": "execute_result"
    }
   ],
   "source": [
    "df.columns"
   ]
  },
  {
   "cell_type": "markdown",
   "metadata": {},
   "source": [
    "Check how many missing values we have in each column:"
   ]
  },
  {
   "cell_type": "code",
   "execution_count": 58,
   "metadata": {
    "scrolled": true
   },
   "outputs": [
    {
     "name": "stdout",
     "output_type": "stream",
     "text": [
      "+-----+----+---------+----+------+---------+-----+\n",
      "|State|Year|Type_code|Type|Gender|Age_group|Total|\n",
      "+-----+----+---------+----+------+---------+-----+\n",
      "|    0|   0|        0|   0|     0|        0|    0|\n",
      "+-----+----+---------+----+------+---------+-----+\n",
      "\n"
     ]
    }
   ],
   "source": [
    "df.select([count(when(col(c).isNull(), c)).alias(c) for c in [\"State\", \"Year\", \"Type_code\", \"Type\", \"Gender\", \"Age_group\", \"Total\"]]).show()"
   ]
  },
  {
   "cell_type": "code",
   "execution_count": 59,
   "metadata": {},
   "outputs": [
    {
     "name": "stdout",
     "output_type": "stream",
     "text": [
      "+-----+----+---------+----+------+---------+-----+\n",
      "|State|Year|Type_code|Type|Gender|Age_group|Total|\n",
      "+-----+----+---------+----+------+---------+-----+\n",
      "|    0|   0|        0|   0|     0|        0|    0|\n",
      "+-----+----+---------+----+------+---------+-----+\n",
      "\n"
     ]
    }
   ],
   "source": [
    "df.select([count(when(col(c) == \"NA\", c)).alias(c) for c in [\"State\", \"Year\", \"Type_code\", \"Type\", \"Gender\", \"Age_group\", \"Total\"]]).show()"
   ]
  },
  {
   "cell_type": "markdown",
   "metadata": {},
   "source": [
    "The quality of the data is very high since we do not have any missing values and the columns are also already in the right format.\n",
    "So at this point, there is no need to conduct further data cleaning."
   ]
  },
  {
   "cell_type": "markdown",
   "metadata": {},
   "source": [
    "Check the number of distinct values:"
   ]
  },
  {
   "cell_type": "code",
   "execution_count": 60,
   "metadata": {},
   "outputs": [
    {
     "name": "stdout",
     "output_type": "stream",
     "text": [
      "+-----+---------+----+---------+\n",
      "|State|Type_code|Type|Age_group|\n",
      "+-----+---------+----+---------+\n",
      "|   38|        5|  69|        6|\n",
      "+-----+---------+----+---------+\n",
      "\n"
     ]
    }
   ],
   "source": [
    "df.select([countDistinct(c).alias(c) for c in [\"State\",\"Type_code\",\"Type\",\"Age_group\"]]).show()"
   ]
  },
  {
   "cell_type": "markdown",
   "metadata": {},
   "source": [
    "Show the different categories of type_code:"
   ]
  },
  {
   "cell_type": "code",
   "execution_count": 61,
   "metadata": {
    "scrolled": true
   },
   "outputs": [
    {
     "data": {
      "text/plain": [
       "[Row(Type_code='Education_Status'),\n",
       " Row(Type_code='Professional_Profile'),\n",
       " Row(Type_code='Means_adopted'),\n",
       " Row(Type_code='Social_Status'),\n",
       " Row(Type_code='Causes')]"
      ]
     },
     "execution_count": 61,
     "metadata": {},
     "output_type": "execute_result"
    }
   ],
   "source": [
    "df.select(\"Type_code\").distinct().collect()"
   ]
  },
  {
   "cell_type": "markdown",
   "metadata": {},
   "source": [
    "Show the different states:"
   ]
  },
  {
   "cell_type": "code",
   "execution_count": 62,
   "metadata": {},
   "outputs": [
    {
     "data": {
      "text/plain": [
       "[Row(State='Nagaland'),\n",
       " Row(State='Karnataka'),\n",
       " Row(State='Odisha'),\n",
       " Row(State='Kerala'),\n",
       " Row(State='Tamil Nadu'),\n",
       " Row(State='Chhattisgarh'),\n",
       " Row(State='Andhra Pradesh'),\n",
       " Row(State='Lakshadweep'),\n",
       " Row(State='Madhya Pradesh'),\n",
       " Row(State='Punjab'),\n",
       " Row(State='Manipur'),\n",
       " Row(State='Daman & Diu'),\n",
       " Row(State='Jammu & Kashmir'),\n",
       " Row(State='Goa'),\n",
       " Row(State='Mizoram'),\n",
       " Row(State='Himachal Pradesh'),\n",
       " Row(State='Puducherry'),\n",
       " Row(State='Haryana'),\n",
       " Row(State='Total (All India)'),\n",
       " Row(State='Jharkhand'),\n",
       " Row(State='Arunachal Pradesh'),\n",
       " Row(State='Gujarat'),\n",
       " Row(State='Sikkim'),\n",
       " Row(State='Delhi (Ut)'),\n",
       " Row(State='Chandigarh'),\n",
       " Row(State='Rajasthan'),\n",
       " Row(State='Assam'),\n",
       " Row(State='Total (States)'),\n",
       " Row(State='Meghalaya'),\n",
       " Row(State='Maharashtra'),\n",
       " Row(State='West Bengal'),\n",
       " Row(State='Bihar'),\n",
       " Row(State='D & N Haveli'),\n",
       " Row(State='Total (Uts)'),\n",
       " Row(State='Tripura'),\n",
       " Row(State='Uttar Pradesh'),\n",
       " Row(State='Uttarakhand'),\n",
       " Row(State='A & N Islands')]"
      ]
     },
     "execution_count": 62,
     "metadata": {},
     "output_type": "execute_result"
    }
   ],
   "source": [
    "df.select(\"State\").distinct().collect()"
   ]
  },
  {
   "cell_type": "markdown",
   "metadata": {},
   "source": [
    "Drop \"invalid\" states"
   ]
  },
  {
   "cell_type": "code",
   "execution_count": 63,
   "metadata": {},
   "outputs": [],
   "source": [
    "df = df.filter((df.State != \"Total (Uts)\") & (df.State != \"Total (States)\") & (df.State != \"Total (All India)\"))"
   ]
  },
  {
   "cell_type": "markdown",
   "metadata": {},
   "source": [
    "Double check if it worked:"
   ]
  },
  {
   "cell_type": "code",
   "execution_count": 64,
   "metadata": {},
   "outputs": [
    {
     "data": {
      "text/plain": [
       "[Row(State='Nagaland'),\n",
       " Row(State='Karnataka'),\n",
       " Row(State='Odisha'),\n",
       " Row(State='Kerala'),\n",
       " Row(State='Tamil Nadu'),\n",
       " Row(State='Chhattisgarh'),\n",
       " Row(State='Andhra Pradesh'),\n",
       " Row(State='Lakshadweep'),\n",
       " Row(State='Madhya Pradesh'),\n",
       " Row(State='Punjab'),\n",
       " Row(State='Manipur'),\n",
       " Row(State='Daman & Diu'),\n",
       " Row(State='Jammu & Kashmir'),\n",
       " Row(State='Goa'),\n",
       " Row(State='Mizoram'),\n",
       " Row(State='Himachal Pradesh'),\n",
       " Row(State='Puducherry'),\n",
       " Row(State='Haryana'),\n",
       " Row(State='Jharkhand'),\n",
       " Row(State='Arunachal Pradesh'),\n",
       " Row(State='Gujarat'),\n",
       " Row(State='Sikkim'),\n",
       " Row(State='Delhi (Ut)'),\n",
       " Row(State='Chandigarh'),\n",
       " Row(State='Rajasthan'),\n",
       " Row(State='Assam'),\n",
       " Row(State='Meghalaya'),\n",
       " Row(State='Maharashtra'),\n",
       " Row(State='West Bengal'),\n",
       " Row(State='Bihar'),\n",
       " Row(State='D & N Haveli'),\n",
       " Row(State='Tripura'),\n",
       " Row(State='Uttar Pradesh'),\n",
       " Row(State='Uttarakhand'),\n",
       " Row(State='A & N Islands')]"
      ]
     },
     "execution_count": 64,
     "metadata": {},
     "output_type": "execute_result"
    }
   ],
   "source": [
    "df.select(\"State\").distinct().collect()"
   ]
  },
  {
   "cell_type": "markdown",
   "metadata": {},
   "source": [
    "Calculate the frequency of each of the causes for suicide:"
   ]
  },
  {
   "cell_type": "code",
   "execution_count": 66,
   "metadata": {},
   "outputs": [
    {
     "name": "stdout",
     "output_type": "stream",
     "text": [
      "+--------------------+------+\n",
      "|                Type| Total|\n",
      "+--------------------+------+\n",
      "|     Family Problems|341952|\n",
      "|    Causes Not known|237069|\n",
      "|Other Causes (Ple...|216050|\n",
      "|Other Prolonged I...|194565|\n",
      "|Insanity/Mental I...| 94229|\n",
      "|        Love Affairs| 45039|\n",
      "|Bankruptcy or Sud...| 32755|\n",
      "|             Poverty| 32684|\n",
      "|       Dowry Dispute| 31970|\n",
      "|Drug Abuse/Addiction| 30046|\n",
      "|        Unemployment| 27365|\n",
      "|Failure in Examin...| 27005|\n",
      "|    Property Dispute| 18652|\n",
      "|Suspected/Illicit...| 14911|\n",
      "|Fall in Social Re...| 13464|\n",
      "|Professional/Care...| 12554|\n",
      "|Cancellation/Non-...| 11296|\n",
      "|Death of Dear Person| 10321|\n",
      "|              Cancer|  9058|\n",
      "|  Illness (Aids/STD)|  8723|\n",
      "+--------------------+------+\n",
      "only showing top 20 rows\n",
      "\n"
     ]
    }
   ],
   "source": [
    "frequency_causes_DF = df.where((col(\"Type_code\")==\"Causes\")).groupBy(\"Type\")\\\n",
    "                      .agg(sum(\"Total\").alias(\"Total\"))\\\n",
    "                      .orderBy(col(\"Total\").desc())\n",
    "frequency_causes_DF.show()"
   ]
  },
  {
   "cell_type": "markdown",
   "metadata": {},
   "source": [
    "Most frequent cause for suicide:"
   ]
  },
  {
   "cell_type": "code",
   "execution_count": 67,
   "metadata": {},
   "outputs": [
    {
     "data": {
      "text/plain": [
       "Row(Type='Family Problems', Total=341952)"
      ]
     },
     "execution_count": 67,
     "metadata": {},
     "output_type": "execute_result"
    }
   ],
   "source": [
    "frequency_causes_DF.orderBy(col(\"Total\").desc()).first()"
   ]
  },
  {
   "cell_type": "markdown",
   "metadata": {},
   "source": [
    "The most frequent cause for suicide is **Family problems** with a total of 341952."
   ]
  },
  {
   "cell_type": "markdown",
   "metadata": {},
   "source": [
    "Least freuqent cause for suicide:"
   ]
  },
  {
   "cell_type": "code",
   "execution_count": 68,
   "metadata": {
    "scrolled": true
   },
   "outputs": [
    {
     "data": {
      "text/plain": [
       "Row(Type='Not having Children (Barrenness/Impotency', Total=766)"
      ]
     },
     "execution_count": 68,
     "metadata": {},
     "output_type": "execute_result"
    }
   ],
   "source": [
    "frequency_causes_DF.orderBy(col(\"Total\").asc()).first()"
   ]
  },
  {
   "cell_type": "markdown",
   "metadata": {},
   "source": [
    "The least frequent cause for suicide is **not having children** with a total of 766. "
   ]
  },
  {
   "cell_type": "markdown",
   "metadata": {},
   "source": [
    "Calculate the frequency of committed sucides **for the different professional profiles**:"
   ]
  },
  {
   "cell_type": "code",
   "execution_count": 69,
   "metadata": {},
   "outputs": [
    {
     "name": "stdout",
     "output_type": "stream",
     "text": [
      "+--------------------+------+\n",
      "|                Type| Total|\n",
      "+--------------------+------+\n",
      "|Farming/Agricultu...|197923|\n",
      "|             Student| 74323|\n",
      "|Others (Please Sp...|469147|\n",
      "|Self-employed (Bu...| 78112|\n",
      "|          House Wife|285243|\n",
      "|      Retired Person| 11334|\n",
      "|Service (Government)| 23325|\n",
      "|Professional Acti...| 39204|\n",
      "|Public Sector Und...| 30786|\n",
      "|   Service (Private)|115472|\n",
      "|          Unemployed|114374|\n",
      "+--------------------+------+\n",
      "\n"
     ]
    }
   ],
   "source": [
    "frequency_professional_DF = df.where((col(\"Type_code\")==\"Professional_Profile\")).groupBy(\"Type\")\\\n",
    "                      .agg(sum(\"Total\").alias(\"Total\"))\n",
    "frequency_professional_DF.show()"
   ]
  },
  {
   "cell_type": "markdown",
   "metadata": {},
   "source": [
    "Most frequent professional profile:"
   ]
  },
  {
   "cell_type": "code",
   "execution_count": 70,
   "metadata": {},
   "outputs": [
    {
     "data": {
      "text/plain": [
       "Row(Type='Others (Please Specify)', Total=469147)"
      ]
     },
     "execution_count": 70,
     "metadata": {},
     "output_type": "execute_result"
    }
   ],
   "source": [
    "frequency_professional_DF.orderBy(col(\"Total\").desc()).first()"
   ]
  },
  {
   "cell_type": "markdown",
   "metadata": {},
   "source": [
    "The most frequent professional profile is **Others** with a total of 469147."
   ]
  },
  {
   "cell_type": "markdown",
   "metadata": {},
   "source": [
    "Least frequent professional profile:"
   ]
  },
  {
   "cell_type": "code",
   "execution_count": 71,
   "metadata": {},
   "outputs": [
    {
     "data": {
      "text/plain": [
       "Row(Type='Retired Person', Total=11334)"
      ]
     },
     "execution_count": 71,
     "metadata": {},
     "output_type": "execute_result"
    }
   ],
   "source": [
    "frequency_professional_DF.orderBy(col(\"Total\").asc()).first()"
   ]
  },
  {
   "cell_type": "markdown",
   "metadata": {},
   "source": [
    "The least frequent professional profile is **Reitred Person** with 11334."
   ]
  },
  {
   "cell_type": "markdown",
   "metadata": {},
   "source": [
    "Calculate the frequency of committed sucides **for the education status categories**:"
   ]
  },
  {
   "cell_type": "code",
   "execution_count": 72,
   "metadata": {},
   "outputs": [
    {
     "name": "stdout",
     "output_type": "stream",
     "text": [
      "+--------------------+------+\n",
      "|                Type| Total|\n",
      "+--------------------+------+\n",
      "|        No Education|321757|\n",
      "|              Middle|342971|\n",
      "|Post Graduate and...|  7475|\n",
      "|Hr. Secondary/Int...|118908|\n",
      "|             Diploma| 14153|\n",
      "|             Primary|362827|\n",
      "|            Graduate| 31274|\n",
      "|Matriculate/Secon...|256566|\n",
      "+--------------------+------+\n",
      "\n"
     ]
    }
   ],
   "source": [
    "frequency_education_DF = df.where((col(\"Type_code\")==\"Education_Status\")).groupBy(\"Type\")\\\n",
    "                      .agg(sum(\"Total\").alias(\"Total\"))\n",
    "frequency_education_DF.show()"
   ]
  },
  {
   "cell_type": "markdown",
   "metadata": {},
   "source": [
    "Most frequent education status:"
   ]
  },
  {
   "cell_type": "code",
   "execution_count": 73,
   "metadata": {},
   "outputs": [
    {
     "data": {
      "text/plain": [
       "Row(Type='Primary', Total=362827)"
      ]
     },
     "execution_count": 73,
     "metadata": {},
     "output_type": "execute_result"
    }
   ],
   "source": [
    "frequency_education_DF.orderBy(col(\"Total\").desc()).first()"
   ]
  },
  {
   "cell_type": "markdown",
   "metadata": {},
   "source": [
    "The most frequent education status is **Primary** with a total of 362827."
   ]
  },
  {
   "cell_type": "markdown",
   "metadata": {},
   "source": [
    "Least frequent education status:"
   ]
  },
  {
   "cell_type": "code",
   "execution_count": 74,
   "metadata": {
    "scrolled": false
   },
   "outputs": [
    {
     "data": {
      "text/plain": [
       "Row(Type='Post Graduate and Above', Total=7475)"
      ]
     },
     "execution_count": 74,
     "metadata": {},
     "output_type": "execute_result"
    }
   ],
   "source": [
    "frequency_education_DF.orderBy(col(\"Total\").asc()).first()"
   ]
  },
  {
   "cell_type": "markdown",
   "metadata": {},
   "source": [
    "The least frequent education status is **Post Graduate** and Above with a total of 7475."
   ]
  },
  {
   "cell_type": "markdown",
   "metadata": {},
   "source": [
    "Frequency of **mode** on how suicide was committed"
   ]
  },
  {
   "cell_type": "code",
   "execution_count": 75,
   "metadata": {},
   "outputs": [
    {
     "name": "stdout",
     "output_type": "stream",
     "text": [
      "+--------------------+------+\n",
      "|                Type| Total|\n",
      "+--------------------+------+\n",
      "|By touching elect...| 10816|\n",
      "|By coming under r...| 45299|\n",
      "|By Overdose of sl...|  9960|\n",
      "|        By Fire-Arms|  6294|\n",
      "|By Consuming Othe...|231178|\n",
      "|By Jumping from (...|  7871|\n",
      "|By Self Inflictio...|  5093|\n",
      "|         By Drowning| 96711|\n",
      "|  By Over Alcoholism| 15973|\n",
      "|      By Other means|  9238|\n",
      "|By Jumping off Mo...|  8116|\n",
      "|By Jumping from (...|  8127|\n",
      "|By Consuming Inse...|275501|\n",
      "|          By Machine|  1661|\n",
      "|By Other means (p...|135132|\n",
      "|          By Hanging|460955|\n",
      "|By Fire/Self Immo...|128006|\n",
      "+--------------------+------+\n",
      "\n"
     ]
    }
   ],
   "source": [
    "frequency_mode_DF = df.where((col(\"Type_code\")==\"Means_adopted\")).groupBy(\"Type\")\\\n",
    "                      .agg(sum(\"Total\").alias(\"Total\"))\n",
    "frequency_mode_DF.show()"
   ]
  },
  {
   "cell_type": "markdown",
   "metadata": {},
   "source": [
    "Most frequent mode:"
   ]
  },
  {
   "cell_type": "code",
   "execution_count": 76,
   "metadata": {},
   "outputs": [
    {
     "data": {
      "text/plain": [
       "Row(Type='By Hanging', Total=460955)"
      ]
     },
     "execution_count": 76,
     "metadata": {},
     "output_type": "execute_result"
    }
   ],
   "source": [
    "frequency_mode_DF.orderBy(col(\"Total\").desc()).first()"
   ]
  },
  {
   "cell_type": "markdown",
   "metadata": {},
   "source": [
    "The most frequent mode is **By Hanging** with a total of 460955."
   ]
  },
  {
   "cell_type": "markdown",
   "metadata": {},
   "source": [
    "Least frequent mode:"
   ]
  },
  {
   "cell_type": "code",
   "execution_count": 30,
   "metadata": {},
   "outputs": [
    {
     "data": {
      "text/plain": [
       "Row(Type='By Machine', Total=1661)"
      ]
     },
     "execution_count": 30,
     "metadata": {},
     "output_type": "execute_result"
    }
   ],
   "source": [
    "frequency_mode_DF.orderBy(col(\"Total\").asc()).first()"
   ]
  },
  {
   "cell_type": "markdown",
   "metadata": {},
   "source": [
    "The least frequent mode is **By Machine** with a total of 1661."
   ]
  },
  {
   "cell_type": "markdown",
   "metadata": {},
   "source": [
    "Frequency of committed sucides for the different **social statuses**:"
   ]
  },
  {
   "cell_type": "code",
   "execution_count": 77,
   "metadata": {},
   "outputs": [
    {
     "name": "stdout",
     "output_type": "stream",
     "text": [
      "+---------------+-------+\n",
      "|           Type|  Total|\n",
      "+---------------+-------+\n",
      "|  Never Married| 318301|\n",
      "|Widowed/Widower|  62113|\n",
      "|        Married|1021774|\n",
      "|      Seperated|  38471|\n",
      "|       Divorcee|  15272|\n",
      "+---------------+-------+\n",
      "\n"
     ]
    }
   ],
   "source": [
    "frequency_status_DF = df.where((col(\"Type_code\")==\"Social_Status\")).groupBy(\"Type\")\\\n",
    "                      .agg(sum(\"Total\").alias(\"Total\"))\n",
    "frequency_status_DF.show()"
   ]
  },
  {
   "cell_type": "markdown",
   "metadata": {},
   "source": [
    "Most frequent social status:"
   ]
  },
  {
   "cell_type": "code",
   "execution_count": 78,
   "metadata": {},
   "outputs": [
    {
     "data": {
      "text/plain": [
       "Row(Type='Married', Total=1021774)"
      ]
     },
     "execution_count": 78,
     "metadata": {},
     "output_type": "execute_result"
    }
   ],
   "source": [
    "frequency_status_DF.orderBy(col(\"Total\").desc()).first()"
   ]
  },
  {
   "cell_type": "markdown",
   "metadata": {},
   "source": [
    "The most frequent social status is **Married** with a total of 1021774."
   ]
  },
  {
   "cell_type": "markdown",
   "metadata": {},
   "source": [
    "Least frequent social status:"
   ]
  },
  {
   "cell_type": "code",
   "execution_count": 79,
   "metadata": {},
   "outputs": [
    {
     "data": {
      "text/plain": [
       "Row(Type='Divorcee', Total=15272)"
      ]
     },
     "execution_count": 79,
     "metadata": {},
     "output_type": "execute_result"
    }
   ],
   "source": [
    "frequency_status_DF.orderBy(col(\"Total\").asc()).first()"
   ]
  },
  {
   "cell_type": "markdown",
   "metadata": {},
   "source": [
    "The least frequent social status is **Divorcee** with a total of 15272."
   ]
  },
  {
   "cell_type": "markdown",
   "metadata": {},
   "source": [
    "However, those values should be interpreted with caution as for example, the share of people who are \n",
    "married in India is higehr than those living divorced. "
   ]
  },
  {
   "cell_type": "markdown",
   "metadata": {},
   "source": [
    "### 6. Questions relevant in the context to better understand the causes and groups"
   ]
  },
  {
   "cell_type": "markdown",
   "metadata": {},
   "source": [
    "##### 6.1 How did the yearly sum of suicides develop and how did they develop compared to other countries/worldwide?"
   ]
  },
  {
   "cell_type": "markdown",
   "metadata": {},
   "source": [
    "Calculate the yearly sum of sucides:\n",
    "(Disclaimer we need to decide on one category as otherwise we would double count cases)"
   ]
  },
  {
   "cell_type": "code",
   "execution_count": 102,
   "metadata": {
    "scrolled": true
   },
   "outputs": [
    {
     "name": "stdout",
     "output_type": "stream",
     "text": [
      "+----+------+\n",
      "|Year|   Sum|\n",
      "+----+------+\n",
      "|2001|108506|\n",
      "|2002|110417|\n",
      "|2003|110851|\n",
      "|2004|113697|\n",
      "|2005|113914|\n",
      "|2006|118112|\n",
      "|2007|122637|\n",
      "|2008|125017|\n",
      "|2009|127151|\n",
      "|2010|134599|\n",
      "|2011|135585|\n",
      "|2012|120488|\n",
      "+----+------+\n",
      "\n"
     ]
    }
   ],
   "source": [
    "yearly_sum = df.where((col(\"Type_code\")==\"Causes\")).groupBy(\"Year\").agg(sum(\"Total\").alias(\"Sum\")).orderBy(\"Year\")\n",
    "yearly_sum.show()"
   ]
  },
  {
   "cell_type": "markdown",
   "metadata": {},
   "source": [
    "We see an **increase** of the sum of suicides in each year except for 2012."
   ]
  },
  {
   "cell_type": "markdown",
   "metadata": {},
   "source": [
    "Visualization of the development:"
   ]
  },
  {
   "cell_type": "code",
   "execution_count": 103,
   "metadata": {
    "scrolled": true
   },
   "outputs": [
    {
     "data": {
      "image/png": "[encoded data removed]",
      "text/plain": [
       "<Figure size 432x288 with 1 Axes>"
      ]
     },
     "metadata": {
      "needs_background": "light"
     },
     "output_type": "display_data"
    }
   ],
   "source": [
    "import matplotlib.pyplot as plt\n",
    "\n",
    "y_ans_val = [val.Sum for val in yearly_sum.select('Sum').collect()]\n",
    "x_ts = [val.Year for val in yearly_sum.select('Year').collect()]\n",
    "\n",
    "plt.plot(x_ts, y_ans_val)\n",
    "plt.ylabel('Total Number of suicides')\n",
    "plt.yscale('linear')\n",
    "plt.xlabel('Year')\n",
    "plt.title('How did the total number of suicides develop?')\n",
    "plt.grid(True)\n",
    "\n",
    "plt.show()"
   ]
  },
  {
   "cell_type": "markdown",
   "metadata": {},
   "source": [
    "It can be seen that up to 2011 the total number of suicides increased siginificantly and leaves the peak in 2012. "
   ]
  },
  {
   "cell_type": "markdown",
   "metadata": {},
   "source": [
    "Minimum, maximum & average suicide rate in a year:"
   ]
  },
  {
   "cell_type": "code",
   "execution_count": 104,
   "metadata": {},
   "outputs": [],
   "source": [
    "from pyspark.sql.functions import round as sqlround"
   ]
  },
  {
   "cell_type": "code",
   "execution_count": 105,
   "metadata": {
    "scrolled": true
   },
   "outputs": [
    {
     "name": "stdout",
     "output_type": "stream",
     "text": [
      "+----------------+----------------+----------------+\n",
      "|min_suicide_rate|max_suicide_rate|avg_suicide_rate|\n",
      "+----------------+----------------+----------------+\n",
      "|          108506|          135585|        120081.0|\n",
      "+----------------+----------------+----------------+\n",
      "\n"
     ]
    }
   ],
   "source": [
    "yearly_sum.agg(min(\"Sum\").alias(\"min_suicide_rate\"),\\\n",
    "               max(\"Sum\").alias(\"max_suicide_rate\"),\\\n",
    "               sqlround(avg(\"Sum\")).alias(\"avg_suicide_rate\"))\\\n",
    "            .show()"
   ]
  },
  {
   "cell_type": "markdown",
   "metadata": {},
   "source": [
    "Since the data set using here we are only having data on suicide rates in India. I thought it might be interesting to also take into consideration another data set provided by WHO. This data set provides aggregate numbers covering a time frame from 1979 until 2016 for a variety of different countries. "
   ]
  },
  {
   "cell_type": "markdown",
   "metadata": {},
   "source": [
    "Read the data set:"
   ]
  },
  {
   "cell_type": "code",
   "execution_count": 106,
   "metadata": {},
   "outputs": [],
   "source": [
    "df_WHO = spark.read \\\n",
    "                 .option(\"inferSchema\", \"true\") \\\n",
    "                 .option(\"header\", \"true\") \\\n",
    "                 .csv(\"who_suicide_statistics.csv\")"
   ]
  },
  {
   "cell_type": "code",
   "execution_count": 107,
   "metadata": {},
   "outputs": [
    {
     "name": "stdout",
     "output_type": "stream",
     "text": [
      "root\n",
      " |-- country: string (nullable = true)\n",
      " |-- year: integer (nullable = true)\n",
      " |-- sex: string (nullable = true)\n",
      " |-- age: string (nullable = true)\n",
      " |-- suicides_no: integer (nullable = true)\n",
      " |-- population: integer (nullable = true)\n",
      "\n"
     ]
    },
    {
     "data": {
      "text/markdown": [
       "This DataFrame has **43776 rows**."
      ],
      "text/plain": [
       "<IPython.core.display.Markdown object>"
      ]
     },
     "metadata": {},
     "output_type": "display_data"
    }
   ],
   "source": [
    "df_WHO.printSchema()\n",
    "display(Markdown(\"This DataFrame has **%d rows**.\" % df_WHO.count()))"
   ]
  },
  {
   "cell_type": "markdown",
   "metadata": {},
   "source": [
    "Which countries can we find in the WHO data set?"
   ]
  },
  {
   "cell_type": "code",
   "execution_count": 108,
   "metadata": {},
   "outputs": [
    {
     "name": "stdout",
     "output_type": "stream",
     "text": [
      "+--------------------+\n",
      "|             Country|\n",
      "+--------------------+\n",
      "|            Anguilla|\n",
      "|            Paraguay|\n",
      "|          Cabo Verde|\n",
      "|              Sweden|\n",
      "|            Kiribati|\n",
      "|   Republic of Korea|\n",
      "|              Guyana|\n",
      "|         Philippines|\n",
      "|Occupied Palestin...|\n",
      "|            Malaysia|\n",
      "|           Singapore|\n",
      "|                Fiji|\n",
      "|              Turkey|\n",
      "|      TFYR Macedonia|\n",
      "|                Iraq|\n",
      "|             Germany|\n",
      "|              Jordan|\n",
      "|            Maldives|\n",
      "|              France|\n",
      "|Turks and Caicos ...|\n",
      "+--------------------+\n",
      "only showing top 20 rows\n",
      "\n"
     ]
    }
   ],
   "source": [
    "df_WHO.select(\"Country\").distinct().show()"
   ]
  },
  {
   "cell_type": "markdown",
   "metadata": {},
   "source": [
    "For comparison, I will go for the Philippines and Spain:"
   ]
  },
  {
   "cell_type": "markdown",
   "metadata": {},
   "source": [
    "Calculations for the Philippines:"
   ]
  },
  {
   "cell_type": "code",
   "execution_count": 111,
   "metadata": {},
   "outputs": [],
   "source": [
    "yearly_sum_PH = df_WHO.where((col(\"Country\")==\"Philippines\") & (col(\"Year\")>=\"2001\") & (col(\"Year\")<=\"2012\"))\\\n",
    "                .groupBy(\"Year\")\\\n",
    "                .agg(sum(\"suicides_no\").alias(\"Sum\"))\\\n",
    "                .orderBy(\"Year\")"
   ]
  },
  {
   "cell_type": "markdown",
   "metadata": {},
   "source": [
    "Visualization for the Philippines:"
   ]
  },
  {
   "cell_type": "code",
   "execution_count": 112,
   "metadata": {},
   "outputs": [
    {
     "data": {
      "image/png": "[encoded data removed]",
      "text/plain": [
       "<Figure size 432x288 with 1 Axes>"
      ]
     },
     "metadata": {
      "needs_background": "light"
     },
     "output_type": "display_data"
    }
   ],
   "source": [
    "y_ans_val = [val.Sum for val in yearly_sum_PH.select('Sum').collect()]\n",
    "x_ts = [val.Year for val in yearly_sum_PH.select('Year').collect()]\n",
    "\n",
    "plt.plot(x_ts, y_ans_val)\n",
    "plt.ylabel('Total Number of suicides')\n",
    "plt.yscale('linear')\n",
    "plt.xlabel('Year')\n",
    "plt.title('How did the total number of suicides develop in PH?')\n",
    "plt.grid(True)\n",
    "\n",
    "plt.show()"
   ]
  },
  {
   "cell_type": "markdown",
   "metadata": {},
   "source": [
    "Similar to what we have seen for India, there is a steady increase of number of suicides. The difference here is that the relative increase of suicides in the Philippines is definitely higher. As we can see in 2001 there were around 1200 suicides, while in 2011 the number doubled with around 2400."
   ]
  },
  {
   "cell_type": "markdown",
   "metadata": {},
   "source": [
    "Calculations for Spain:"
   ]
  },
  {
   "cell_type": "code",
   "execution_count": 113,
   "metadata": {},
   "outputs": [],
   "source": [
    "yearly_sum_ES = df_WHO.where((col(\"Country\")==\"Spain\") & (col(\"Year\")>=\"2001\") & (col(\"Year\")<=\"2012\"))\\\n",
    "                .groupBy(\"Year\")\\\n",
    "                .agg(sum(\"suicides_no\").alias(\"Sum\"))\\\n",
    "                .orderBy(\"Year\")"
   ]
  },
  {
   "cell_type": "code",
   "execution_count": 114,
   "metadata": {},
   "outputs": [
    {
     "data": {
      "image/png": "[encoded data removed]",
      "text/plain": [
       "<Figure size 432x288 with 1 Axes>"
      ]
     },
     "metadata": {
      "needs_background": "light"
     },
     "output_type": "display_data"
    }
   ],
   "source": [
    "y_ans_val = [val.Sum for val in yearly_sum_ES.select('Sum').collect()]\n",
    "x_ts = [val.Year for val in yearly_sum_ES.select('Year').collect()]\n",
    "\n",
    "plt.plot(x_ts, y_ans_val)\n",
    "plt.ylabel('Total Number of suicides')\n",
    "plt.xlabel('Year')\n",
    "plt.title('How did the total number of suicides develop in ES?')\n",
    "plt.grid(True)\n",
    "\n",
    "plt.show()"
   ]
  },
  {
   "cell_type": "markdown",
   "metadata": {},
   "source": [
    "This graph shows the development of suicide cases in Spain. As can been seen the number of cases in the given time frame is realtively stable, not like we have seen for India and the Philippines."
   ]
  },
  {
   "cell_type": "markdown",
   "metadata": {},
   "source": [
    "And how does it look like if we look at the average worldwide?"
   ]
  },
  {
   "cell_type": "code",
   "execution_count": 115,
   "metadata": {},
   "outputs": [
    {
     "data": {
      "image/png": "[encoded data removed]",
      "text/plain": [
       "<Figure size 432x288 with 1 Axes>"
      ]
     },
     "metadata": {
      "needs_background": "light"
     },
     "output_type": "display_data"
    }
   ],
   "source": [
    "yearly_sum_ALL = df_WHO.where((col(\"Year\")>=\"2001\") & (col(\"Year\")<=\"2012\"))\\\n",
    "                .groupBy(\"Year\")\\\n",
    "                .agg(sum(\"suicides_no\").alias(\"Sum\"))\\\n",
    "                .orderBy(\"Year\")\n",
    "\n",
    "y_ans_val = [val.Sum for val in yearly_sum_ALL.select('Sum').collect()]\n",
    "x_ts = [val.Year for val in yearly_sum_ALL.select('Year').collect()]\n",
    "\n",
    "plt.plot(x_ts, y_ans_val)\n",
    "plt.ylabel('Total Number of suicides')\n",
    "plt.yscale('linear')\n",
    "plt.xlabel('Year')\n",
    "plt.title('How did the total number of suicides develop worldwide?')\n",
    "plt.grid(True)\n",
    "\n",
    "plt.show()"
   ]
  },
  {
   "cell_type": "markdown",
   "metadata": {},
   "source": [
    "Looking at the worldwide development of suicides, we can see that the overall trend is towards less suicides comitted."
   ]
  },
  {
   "cell_type": "markdown",
   "metadata": {},
   "source": [
    "#### 6.2 What was the yearly % change of suicide cases?"
   ]
  },
  {
   "cell_type": "code",
   "execution_count": 116,
   "metadata": {},
   "outputs": [],
   "source": [
    "from pyspark.sql import functions as F\n",
    "from pyspark.sql.window import Window\n",
    "from pyspark.sql.functions import lag"
   ]
  },
  {
   "cell_type": "code",
   "execution_count": 117,
   "metadata": {},
   "outputs": [],
   "source": [
    "number_window = Window.partitionBy().orderBy(\"Year\")"
   ]
  },
  {
   "cell_type": "code",
   "execution_count": 118,
   "metadata": {},
   "outputs": [
    {
     "name": "stdout",
     "output_type": "stream",
     "text": [
      "root\n",
      " |-- Year: integer (nullable = true)\n",
      " |-- Sum: long (nullable = true)\n",
      "\n"
     ]
    }
   ],
   "source": [
    "yearly_sum.printSchema()"
   ]
  },
  {
   "cell_type": "code",
   "execution_count": 119,
   "metadata": {},
   "outputs": [],
   "source": [
    "yearly_sum = df.groupBy(\"Year\").agg(sum(\"Total\").alias(\"Sum\")).orderBy(\"Year\")"
   ]
  },
  {
   "cell_type": "code",
   "execution_count": 120,
   "metadata": {},
   "outputs": [],
   "source": [
    "yearly_sum = yearly_sum.withColumn(\"Sum\", yearly_sum[\"Sum\"].cast(IntegerType()))"
   ]
  },
  {
   "cell_type": "code",
   "execution_count": 121,
   "metadata": {},
   "outputs": [
    {
     "name": "stdout",
     "output_type": "stream",
     "text": [
      "+----+------+--------+------+\n",
      "|Year|   Sum|Previous|  diff|\n",
      "+----+------+--------+------+\n",
      "|2001|542440|    null|     0|\n",
      "|2002|551980|  542440|  9540|\n",
      "|2003|554218|  551980|  2238|\n",
      "|2004|568349|  554218| 14131|\n",
      "|2005|569545|  568349|  1196|\n",
      "|2006|590543|  569545| 20998|\n",
      "|2007|613119|  590543| 22576|\n",
      "|2008|625014|  613119| 11895|\n",
      "|2009|635429|  625014| 10415|\n",
      "|2010|672926|  635429| 37497|\n",
      "|2011|677159|  672926|  4233|\n",
      "|2012|647288|  677159|-29871|\n",
      "+----+------+--------+------+\n",
      "\n"
     ]
    }
   ],
   "source": [
    "yearly_sum = yearly_sum.withColumn(\"Previous\", F.lag(yearly_sum.Sum).over(number_window))\n",
    "yearly_sum = yearly_sum.withColumn(\"diff\", F.when(F.isnull(yearly_sum.Sum - yearly_sum.Previous), 0).otherwise(yearly_sum.Sum - yearly_sum.Previous))\n",
    "yearly_sum.show()"
   ]
  },
  {
   "cell_type": "code",
   "execution_count": 122,
   "metadata": {},
   "outputs": [
    {
     "name": "stdout",
     "output_type": "stream",
     "text": [
      "+----+------+--------+------+-----------+\n",
      "|Year|   Sum|Previous|  diff|perc_change|\n",
      "+----+------+--------+------+-----------+\n",
      "|2001|542440|    null|     0|       null|\n",
      "|2002|551980|  542440|  9540|        2.0|\n",
      "|2003|554218|  551980|  2238|        0.0|\n",
      "|2004|568349|  554218| 14131|        3.0|\n",
      "|2005|569545|  568349|  1196|        0.0|\n",
      "|2006|590543|  569545| 20998|        4.0|\n",
      "|2007|613119|  590543| 22576|        4.0|\n",
      "|2008|625014|  613119| 11895|        2.0|\n",
      "|2009|635429|  625014| 10415|        2.0|\n",
      "|2010|672926|  635429| 37497|        6.0|\n",
      "|2011|677159|  672926|  4233|        1.0|\n",
      "|2012|647288|  677159|-29871|       -4.0|\n",
      "+----+------+--------+------+-----------+\n",
      "\n"
     ]
    }
   ],
   "source": [
    "yearly_sum_agg = yearly_sum.withColumn(\"perc_change\",  sqlround((F.col(\"diff\") / F.col(\"Previous\"))*100))\n",
    "yearly_sum_agg.show()"
   ]
  },
  {
   "cell_type": "markdown",
   "metadata": {},
   "source": [
    "As we have already seen in the graph, we have a positive growth rate for each year excpet for 2012."
   ]
  },
  {
   "cell_type": "code",
   "execution_count": 123,
   "metadata": {},
   "outputs": [
    {
     "name": "stdout",
     "output_type": "stream",
     "text": [
      "+---------------+---------------+---------------+\n",
      "|min_perc_change|max_perc_change|avg_perc_change|\n",
      "+---------------+---------------+---------------+\n",
      "|           -4.0|            6.0|            2.0|\n",
      "+---------------+---------------+---------------+\n",
      "\n"
     ]
    }
   ],
   "source": [
    "yearly_sum_agg.agg(min(\"perc_change\").alias(\"min_perc_change\"),\\\n",
    "               max(\"perc_change\").alias(\"max_perc_change\"),\\\n",
    "               sqlround(avg(\"perc_change\")).alias(\"avg_perc_change\"))\\\n",
    "               .show()"
   ]
  },
  {
   "cell_type": "markdown",
   "metadata": {},
   "source": [
    "#### 6.3 Do the numbers of  suicides committed change among age groups and gender?"
   ]
  },
  {
   "cell_type": "code",
   "execution_count": 124,
   "metadata": {},
   "outputs": [],
   "source": [
    "Gender_DF = df\\\n",
    "   .withColumn(\"Age_group\", when(col(\"Age_group\") == \"0-14\", \"Child\")\\\n",
    "                               .when((col(\"Age_group\")) == \"15-29\" ,\" Young adult\")\\\n",
    "                               .when((col(\"Age_group\"))== \"30-44\" , \"Medium aged adult\")\\\n",
    "                               .when((col(\"Age_group\"))== \"45-59\" , \"Older aged adult\")\\\n",
    "                               .when((col(\"Age_group\"))== \"60+\", \"Retired adult\")\\\n",
    "                               .otherwise(\"Very old adult\"))"
   ]
  },
  {
   "cell_type": "code",
   "execution_count": 125,
   "metadata": {
    "scrolled": true
   },
   "outputs": [
    {
     "name": "stdout",
     "output_type": "stream",
     "text": [
      "+-----------------+-------+\n",
      "|        Age_group|    Sum|\n",
      "+-----------------+-------+\n",
      "|   Very old adult|2911862|\n",
      "|      Young adult|1534037|\n",
      "|Medium aged adult|1471599|\n",
      "| Older aged adult| 885177|\n",
      "|    Retired adult| 346925|\n",
      "|            Child|  98410|\n",
      "+-----------------+-------+\n",
      "\n"
     ]
    }
   ],
   "source": [
    "Gender_DF.groupBy(\"Age_group\")\\\n",
    "         .agg(sum(\"Total\").alias(\"Sum\"))\\\n",
    "         .orderBy(col(\"Sum\").desc())\\\n",
    "         .show()"
   ]
  },
  {
   "cell_type": "markdown",
   "metadata": {},
   "source": [
    "This table proves that there is definitely a difference between the age groups. The group which is most at risk for committing suicide are very old adults, while the number of childs comitting suicide is quite low with 98410 overall."
   ]
  },
  {
   "cell_type": "code",
   "execution_count": 133,
   "metadata": {},
   "outputs": [
    {
     "name": "stdout",
     "output_type": "stream",
     "text": [
      "+------+-------+\n",
      "|Gender|    Sum|\n",
      "+------+-------+\n",
      "|Female|2606922|\n",
      "|  Male|4641088|\n",
      "+------+-------+\n",
      "\n"
     ]
    }
   ],
   "source": [
    "df.groupBy(\"Gender\")\\\n",
    "         .agg(sum(\"Total\").alias(\"Sum\"))\\\n",
    "         .orderBy(\"Sum\")\\\n",
    "         .show()"
   ]
  },
  {
   "cell_type": "markdown",
   "metadata": {},
   "source": [
    "The ratio between male and female persons committing suicides is 2:1, meaning that a male is twice as likely to commit suicide as a women. "
   ]
  },
  {
   "cell_type": "markdown",
   "metadata": {},
   "source": [
    "Nice to have but not mandatory, create a markdown:"
   ]
  },
  {
   "cell_type": "code",
   "execution_count": 128,
   "metadata": {},
   "outputs": [
    {
     "name": "stdout",
     "output_type": "stream",
     "text": [
      "Frequency of female and male:\n"
     ]
    },
    {
     "data": {
      "text/markdown": [
       "\n",
       "| Female | Male | \n",
       "|----|----|\n",
       "| Female (2606922 occurrences) | Male (4641088 occurrences) |\n"
      ],
      "text/plain": [
       "<IPython.core.display.Markdown object>"
      ]
     },
     "metadata": {},
     "output_type": "display_data"
    }
   ],
   "source": [
    "print (\"Frequency of female and male:\")\n",
    "Frequency_gender = df.groupBy(\"Gender\")\\\n",
    "                     .agg(sum(\"Total\").alias(\"Sum\"))\\\n",
    "                     .orderBy(\"Sum\")\\\n",
    "                     .show()\n",
    "\n",
    "Freq_male = Frequency_gender.orderBy(col(\"Sum\").asc()).first()\n",
    "Freq_female = Frequency_gender.orderBy(col(\"Sum\").desc()).first()\n",
    "\n",
    "display(Markdown(\"\"\"\n",
    "| %s | %s | \n",
    "|----|----|\n",
    "| %s | %s |\n",
    "\"\"\" % (\"Female\", \"Male\", \\\n",
    "       \"%s (%s occurrences)\" % (Freq_male[\"Gender\"], Freq_male[\"Sum\"]), \\\n",
    "       \"%s (%s occurrences)\" % (Freq_female[\"Gender\"], Freq_female[\"Sum\"]))))"
   ]
  },
  {
   "cell_type": "markdown",
   "metadata": {},
   "source": [
    "#### 6.4 Is there a linear relationship between education status and number of suicides committed?"
   ]
  },
  {
   "cell_type": "markdown",
   "metadata": {},
   "source": [
    "Which education statuses do we have again and how many comitted suicides per status?"
   ]
  },
  {
   "cell_type": "code",
   "execution_count": 56,
   "metadata": {},
   "outputs": [
    {
     "name": "stdout",
     "output_type": "stream",
     "text": [
      "+--------------------+------+\n",
      "|                Type| Total|\n",
      "+--------------------+------+\n",
      "|        No Education|321757|\n",
      "|              Middle|342971|\n",
      "|Post Graduate and...|  7475|\n",
      "|Hr. Secondary/Int...|118908|\n",
      "|             Diploma| 14153|\n",
      "|             Primary|362827|\n",
      "|            Graduate| 31274|\n",
      "|Matriculate/Secon...|256566|\n",
      "+--------------------+------+\n",
      "\n"
     ]
    }
   ],
   "source": [
    "df.where((col(\"Type_code\")==\"Education_Status\")).groupBy(\"Type\")\\\n",
    "                      .agg(sum(\"Total\").alias(\"Total\")).show()"
   ]
  },
  {
   "cell_type": "markdown",
   "metadata": {},
   "source": [
    "In order to be able to calucate the linear correlation, I will be converting the types into numbers with 1 being the lowest \n",
    "education and 8 being the highest."
   ]
  },
  {
   "cell_type": "code",
   "execution_count": 121,
   "metadata": {},
   "outputs": [],
   "source": [
    "df_educ = df\\\n",
    "           .where(col(\"Type_code\")==\"Education_Status\")\\\n",
    "           .withColumn(\"Status_Int\", when(col(\"Type\")==\"No Education\", 0)\\\n",
    "                               .when(col(\"Type\")==\"Primary\", 1)\\\n",
    "                               .when(col(\"Type\")==\"Middle\", 2)\\\n",
    "                               .when(col(\"Type\")==\"Matriculate/Secondary\", 3)\\\n",
    "                               .when(col(\"Type\")==\"Hr. Secondary/Intermediate/Pre-Universit\", 4)\\\n",
    "                               .when(col(\"Type\")==\"Graduate\", 5)\\\n",
    "                               .when(col(\"Type\")==\"Diploma\", 6)\\\n",
    "                               .when(col(\"Type\")==\"Post Graduate and Above\", 7)\\\n",
    "                               .otherwise(1000))"
   ]
  },
  {
   "cell_type": "code",
   "execution_count": 122,
   "metadata": {},
   "outputs": [
    {
     "name": "stdout",
     "output_type": "stream",
     "text": [
      "+-------------+----+----------------+--------------------+------+---------+-----+----------+\n",
      "|        State|Year|       Type_code|                Type|Gender|Age_group|Total|Status_Int|\n",
      "+-------------+----+----------------+--------------------+------+---------+-----+----------+\n",
      "|A & N Islands|2001|Education_Status|             Diploma|Female|   0-100+|    0|         6|\n",
      "|A & N Islands|2001|Education_Status|        No Education|Female|   0-100+|    4|         0|\n",
      "|A & N Islands|2001|Education_Status|Post Graduate and...|Female|   0-100+|    0|         7|\n",
      "|A & N Islands|2001|Education_Status|              Middle|Female|   0-100+|   33|         2|\n",
      "|A & N Islands|2001|Education_Status|            Graduate|Female|   0-100+|    0|         5|\n",
      "|A & N Islands|2001|Education_Status|Hr. Secondary/Int...|Female|   0-100+|    0|         4|\n",
      "|A & N Islands|2001|Education_Status|             Primary|Female|   0-100+|    7|         1|\n",
      "|A & N Islands|2001|Education_Status|Matriculate/Secon...|Female|   0-100+|    6|         3|\n",
      "|A & N Islands|2001|Education_Status|Matriculate/Secon...|  Male|   0-100+|   10|         3|\n",
      "|A & N Islands|2001|Education_Status|Post Graduate and...|  Male|   0-100+|    0|         7|\n",
      "|A & N Islands|2001|Education_Status|            Graduate|  Male|   0-100+|    1|         5|\n",
      "|A & N Islands|2001|Education_Status|             Diploma|  Male|   0-100+|    0|         6|\n",
      "|A & N Islands|2001|Education_Status|        No Education|  Male|   0-100+|    7|         0|\n",
      "|A & N Islands|2001|Education_Status|              Middle|  Male|   0-100+|   39|         2|\n",
      "|A & N Islands|2001|Education_Status|Hr. Secondary/Int...|  Male|   0-100+|    2|         4|\n",
      "|A & N Islands|2001|Education_Status|             Primary|  Male|   0-100+|   20|         1|\n",
      "|A & N Islands|2002|Education_Status|             Diploma|Female|   0-100+|    0|         6|\n",
      "|A & N Islands|2002|Education_Status|              Middle|Female|   0-100+|   45|         2|\n",
      "|A & N Islands|2002|Education_Status|        No Education|Female|   0-100+|    0|         0|\n",
      "|A & N Islands|2002|Education_Status|Post Graduate and...|Female|   0-100+|    0|         7|\n",
      "+-------------+----+----------------+--------------------+------+---------+-----+----------+\n",
      "only showing top 20 rows\n",
      "\n"
     ]
    }
   ],
   "source": [
    "df_educ.show()"
   ]
  },
  {
   "cell_type": "code",
   "execution_count": 123,
   "metadata": {},
   "outputs": [],
   "source": [
    "df_educ_clean = df_educ.groupBy(\"Year\", \"Status_Int\")\\\n",
    "                         .agg(sum(\"Total\").alias(\"Sum\"))\\\n",
    "                         .orderBy(col(\"Year\").asc())"
   ]
  },
  {
   "cell_type": "markdown",
   "metadata": {},
   "source": [
    "Calculation of the correlation:"
   ]
  },
  {
   "cell_type": "code",
   "execution_count": 124,
   "metadata": {},
   "outputs": [],
   "source": [
    "from pyspark.sql import DataFrameStatFunctions"
   ]
  },
  {
   "cell_type": "code",
   "execution_count": 163,
   "metadata": {},
   "outputs": [
    {
     "name": "stdout",
     "output_type": "stream",
     "text": [
      "root\n",
      " |-- Year: integer (nullable = true)\n",
      " |-- Status_Int: integer (nullable = false)\n",
      " |-- Sum: long (nullable = true)\n",
      "\n"
     ]
    }
   ],
   "source": [
    "df_educ_clean.printSchema()"
   ]
  },
  {
   "cell_type": "code",
   "execution_count": 173,
   "metadata": {},
   "outputs": [
    {
     "data": {
      "text/markdown": [
       "The person correlation coefficient is:"
      ],
      "text/plain": [
       "<IPython.core.display.Markdown object>"
      ]
     },
     "metadata": {},
     "output_type": "display_data"
    },
    {
     "data": {
      "text/plain": [
       "-0.9314535024117002"
      ]
     },
     "execution_count": 173,
     "metadata": {},
     "output_type": "execute_result"
    }
   ],
   "source": [
    "display(Markdown(\"The person correlation coefficient is:\"))\n",
    "df_educ_clean.stat.corr(\"Status_Int\", \"Sum\")"
   ]
  },
  {
   "cell_type": "markdown",
   "metadata": {},
   "source": [
    "The resulting correlation coefficient is strongly negative and very close to minus one, where one could already speak of a perfect negative correlation. The concrete interpretation of this would then be to say that the higher the school-leaving qualification acquired, the less likely it is that this person will commit suicide. On the other hand, this also means that the lower the level of education, the higher the risk of committing  suicide. \n"
   ]
  },
  {
   "cell_type": "markdown",
   "metadata": {},
   "source": [
    "#### 6.5 How do suicide rates change among states?"
   ]
  },
  {
   "cell_type": "code",
   "execution_count": 135,
   "metadata": {},
   "outputs": [
    {
     "name": "stdout",
     "output_type": "stream",
     "text": [
      "+--------------+------+\n",
      "|         State|   Sum|\n",
      "+--------------+------+\n",
      "|   Maharashtra|901945|\n",
      "|   West Bengal|849936|\n",
      "|    Tamil Nadu|818691|\n",
      "|Andhra Pradesh|814059|\n",
      "|     Karnataka|734825|\n",
      "|        Kerala|538946|\n",
      "|Madhya Pradesh|451535|\n",
      "|       Gujarat|330858|\n",
      "|  Chhattisgarh|302354|\n",
      "|        Odisha|267234|\n",
      "|     Rajasthan|255134|\n",
      "| Uttar Pradesh|233352|\n",
      "|         Assam|172276|\n",
      "|       Haryana|147176|\n",
      "|    Delhi (Ut)| 84272|\n",
      "|     Jharkhand| 49720|\n",
      "|        Punjab| 46350|\n",
      "|         Bihar| 46214|\n",
      "|       Tripura| 45965|\n",
      "|    Puducherry| 32144|\n",
      "+--------------+------+\n",
      "only showing top 20 rows\n",
      "\n"
     ]
    }
   ],
   "source": [
    "df_states = df.groupBy(\"State\")\\\n",
    "                 .agg(sum(\"Total\").alias(\"Sum\"))\\\n",
    "                 .orderBy(col(\"Sum\").desc())\n",
    "\n",
    "df_states.show()"
   ]
  },
  {
   "cell_type": "markdown",
   "metadata": {},
   "source": [
    "Let's look at the state with the highest sum and the development for the last 11 years:"
   ]
  },
  {
   "cell_type": "code",
   "execution_count": 139,
   "metadata": {},
   "outputs": [],
   "source": [
    "df_Maharashtra = df.where((col(\"State\")==\"Maharashtra\"))\\\n",
    "                 .groupBy(\"Year\")\\\n",
    "                 .agg(sum(\"Total\").alias(\"Sum\"))\\\n",
    "                 .orderBy(col(\"Year\").desc())"
   ]
  },
  {
   "cell_type": "code",
   "execution_count": 140,
   "metadata": {},
   "outputs": [
    {
     "data": {
      "image/png": "[encoded data removed]",
      "text/plain": [
       "<Figure size 432x288 with 1 Axes>"
      ]
     },
     "metadata": {
      "needs_background": "light"
     },
     "output_type": "display_data"
    }
   ],
   "source": [
    "y_ans_val = [val.Sum for val in df_Maharashtra.select('Sum').collect()]\n",
    "x_ts = [val.Year for val in df_Maharashtra.select('Year').collect()]\n",
    "\n",
    "plt.plot(x_ts, y_ans_val)\n",
    "plt.ylabel('Total Number of suicides')\n",
    "plt.title('How did the total number of suicides develop in Maharashtra?')\n",
    "plt.grid(True)\n",
    "\n",
    "plt.show()"
   ]
  },
  {
   "cell_type": "markdown",
   "metadata": {},
   "source": [
    "Here one can see that the number of people committing suicide has also increased in the state with the highest rate. However, the increase is not particularly strong and the number of people committing suicide is at a constant high level."
   ]
  },
  {
   "cell_type": "markdown",
   "metadata": {},
   "source": [
    "#### 6.6 How did the number for each of the causes develop over the year?"
   ]
  },
  {
   "cell_type": "code",
   "execution_count": 141,
   "metadata": {},
   "outputs": [
    {
     "name": "stdout",
     "output_type": "stream",
     "text": [
      "+----+--------------------+-----+\n",
      "|Year|                Type|Total|\n",
      "+----+--------------------+-----+\n",
      "|2001|Other Causes (Ple...|13854|\n",
      "|2001|     Family Problems|24162|\n",
      "|2001|Cancellation/Non-...|  924|\n",
      "|2001|Physical Abuse (R...|  376|\n",
      "|2001|Bankruptcy or Sud...| 2918|\n",
      "|2001|Suspected/Illicit...| 1200|\n",
      "|2001|Death of Dear Person|  871|\n",
      "|2001|             Divorce|  316|\n",
      "|2001|  Illness (Aids/STD)|  741|\n",
      "|2001|    Property Dispute| 1599|\n",
      "|2001|Insanity/Mental I...| 5858|\n",
      "|2001|Fall in Social Re...| 1209|\n",
      "|2001|        Love Affairs| 3114|\n",
      "|2001|Illegitimate Preg...|  369|\n",
      "|2001|             Poverty| 2549|\n",
      "|2001|Professional/Care...|  857|\n",
      "|2001|Ideological Cause...|  104|\n",
      "|2001|           Paralysis|  772|\n",
      "|2001|Drug Abuse/Addiction| 1414|\n",
      "|2001|       Dowry Dispute| 2414|\n",
      "+----+--------------------+-----+\n",
      "only showing top 20 rows\n",
      "\n"
     ]
    }
   ],
   "source": [
    "df_causes_dev = df.where((col(\"Type_code\")==\"Causes\"))\\\n",
    "                  .groupBy(\"Year\", \"Type\")\\\n",
    "                  .agg(sum(\"Total\")\\\n",
    "                       .alias(\"Total\"))\\\n",
    "                  .orderBy(\"Year\")\n",
    "\n",
    "df_causes_dev.show()"
   ]
  },
  {
   "cell_type": "markdown",
   "metadata": {},
   "source": [
    "Since there are quite many causes, I decided to focus on the two main causes: family problems and insantiy/mental illness:"
   ]
  },
  {
   "cell_type": "code",
   "execution_count": 142,
   "metadata": {},
   "outputs": [
    {
     "name": "stdout",
     "output_type": "stream",
     "text": [
      "+----+--------------------+-----+\n",
      "|Year|                Type|Total|\n",
      "+----+--------------------+-----+\n",
      "|2001|     Family Problems|24162|\n",
      "|2001|Other Prolonged I...|15947|\n",
      "|2002|Other Prolonged I...|17296|\n",
      "|2002|     Family Problems|25085|\n",
      "|2003|Other Prolonged I...|15636|\n",
      "|2003|     Family Problems|26308|\n",
      "|2004|Other Prolonged I...|16341|\n",
      "|2004|     Family Problems|25531|\n",
      "|2005|Other Prolonged I...|14820|\n",
      "|2005|     Family Problems|25441|\n",
      "|2006|     Family Problems|30771|\n",
      "|2006|Other Prolonged I...|16497|\n",
      "|2007|     Family Problems|29238|\n",
      "|2007|Other Prolonged I...|16452|\n",
      "|2008|Other Prolonged I...|16651|\n",
      "|2008|     Family Problems|29777|\n",
      "|2009|     Family Problems|30082|\n",
      "|2009|Other Prolonged I...|16028|\n",
      "|2010|     Family Problems|31856|\n",
      "|2010|Other Prolonged I...|17044|\n",
      "|2011|Other Prolonged I...|16154|\n",
      "|2011|     Family Problems|32909|\n",
      "|2012|Other Prolonged I...|15699|\n",
      "|2012|     Family Problems|30792|\n",
      "+----+--------------------+-----+\n",
      "\n"
     ]
    }
   ],
   "source": [
    "df.where((col(\"Type_code\")==\"Causes\") & ((col(\"Type\")==\"Family Problems\") | (col(\"Type\")==\"Other Prolonged Illness\")))\\\n",
    "    .groupBy(\"Year\", \"Type\")\\\n",
    "    .agg(sum(\"Total\")\\\n",
    "        .alias(\"Total\"))\\\n",
    "    .orderBy(\"Year\")\\\n",
    "    .show(40)"
   ]
  },
  {
   "cell_type": "markdown",
   "metadata": {},
   "source": [
    "Split the table up in two so it is easier to do the calculations:"
   ]
  },
  {
   "cell_type": "markdown",
   "metadata": {},
   "source": [
    "**Family problems:**"
   ]
  },
  {
   "cell_type": "code",
   "execution_count": 144,
   "metadata": {},
   "outputs": [
    {
     "name": "stdout",
     "output_type": "stream",
     "text": [
      "+----+-----+\n",
      "|Year|Total|\n",
      "+----+-----+\n",
      "|2001|24162|\n",
      "|2002|25085|\n",
      "|2003|26308|\n",
      "|2004|25531|\n",
      "|2005|25441|\n",
      "|2006|30771|\n",
      "|2007|29238|\n",
      "|2008|29777|\n",
      "|2009|30082|\n",
      "|2010|31856|\n",
      "|2011|32909|\n",
      "|2012|30792|\n",
      "+----+-----+\n",
      "\n"
     ]
    }
   ],
   "source": [
    "df_family_problems = df.where((col(\"Type_code\")==\"Causes\") & (col(\"Type\")==\"Family Problems\"))\\\n",
    "                       .groupBy(\"Year\")\\\n",
    "                       .agg(sum(\"Total\")\\\n",
    "                            .alias(\"Total\"))\\\n",
    "                       .orderBy(\"Year\")\n",
    "df_family_problems.show()"
   ]
  },
  {
   "cell_type": "code",
   "execution_count": 145,
   "metadata": {},
   "outputs": [],
   "source": [
    "number_window = Window.partitionBy().orderBy(\"Year\")"
   ]
  },
  {
   "cell_type": "code",
   "execution_count": 153,
   "metadata": {},
   "outputs": [
    {
     "name": "stdout",
     "output_type": "stream",
     "text": [
      "+----+-----+--------+-----+---------------------------+\n",
      "|Year|Total|Previous| diff|perc_change_family_problems|\n",
      "+----+-----+--------+-----+---------------------------+\n",
      "|2001|24162|    null|    0|                       null|\n",
      "|2002|25085|   24162|  923|                        4.0|\n",
      "|2003|26308|   25085| 1223|                        5.0|\n",
      "|2004|25531|   26308| -777|                       -3.0|\n",
      "|2005|25441|   25531|  -90|                        0.0|\n",
      "|2006|30771|   25441| 5330|                       21.0|\n",
      "|2007|29238|   30771|-1533|                       -5.0|\n",
      "|2008|29777|   29238|  539|                        2.0|\n",
      "|2009|30082|   29777|  305|                        1.0|\n",
      "|2010|31856|   30082| 1774|                        6.0|\n",
      "|2011|32909|   31856| 1053|                        3.0|\n",
      "|2012|30792|   32909|-2117|                       -6.0|\n",
      "+----+-----+--------+-----+---------------------------+\n",
      "\n"
     ]
    }
   ],
   "source": [
    "df_family_problems = df_family_problems.withColumn(\"Previous\", F.lag(df_family_problems.Total).over(number_window))\n",
    "df_family_problems = df_family_problems.withColumn(\"diff\", F.when(F.isnull(df_family_problems.Total - df_family_problems.Previous), 0)\\\n",
    "                                                   .otherwise(df_family_problems.Total - df_family_problems.Previous))\n",
    "df_family_problems.withColumn(\"perc_change_family_problems\",  sqlround((F.col(\"diff\") / F.col(\"Previous\"))*100)).show()\n"
   ]
  },
  {
   "cell_type": "markdown",
   "metadata": {},
   "source": [
    "**Illness problems:**"
   ]
  },
  {
   "cell_type": "code",
   "execution_count": 147,
   "metadata": {},
   "outputs": [
    {
     "name": "stdout",
     "output_type": "stream",
     "text": [
      "+----+-----+\n",
      "|Year|Total|\n",
      "+----+-----+\n",
      "|2001|15947|\n",
      "|2002|17296|\n",
      "|2003|15636|\n",
      "|2004|16341|\n",
      "|2005|14820|\n",
      "|2006|16497|\n",
      "|2007|16452|\n",
      "|2008|16651|\n",
      "|2009|16028|\n",
      "|2010|17044|\n",
      "|2011|16154|\n",
      "|2012|15699|\n",
      "+----+-----+\n",
      "\n"
     ]
    }
   ],
   "source": [
    "df_illness_problems = df.where((col(\"Type_code\")==\"Causes\") & (col(\"Type\")==\"Other Prolonged Illness\"))\\\n",
    "                       .groupBy(\"Year\")\\\n",
    "                       .agg(sum(\"Total\")\\\n",
    "                            .alias(\"Total\"))\\\n",
    "                       .orderBy(\"Year\")\n",
    "df_illness_problems.show()"
   ]
  },
  {
   "cell_type": "code",
   "execution_count": 157,
   "metadata": {},
   "outputs": [
    {
     "name": "stdout",
     "output_type": "stream",
     "text": [
      "+----+-----+--------+-----+-------------------+\n",
      "|Year|Total|Previous| diff|perc_change_illness|\n",
      "+----+-----+--------+-----+-------------------+\n",
      "|2001|15947|    null|    0|               null|\n",
      "|2002|17296|   15947| 1349|                8.0|\n",
      "|2003|15636|   17296|-1660|              -10.0|\n",
      "|2004|16341|   15636|  705|                5.0|\n",
      "|2005|14820|   16341|-1521|               -9.0|\n",
      "|2006|16497|   14820| 1677|               11.0|\n",
      "|2007|16452|   16497|  -45|                0.0|\n",
      "|2008|16651|   16452|  199|                1.0|\n",
      "|2009|16028|   16651| -623|               -4.0|\n",
      "|2010|17044|   16028| 1016|                6.0|\n",
      "|2011|16154|   17044| -890|               -5.0|\n",
      "|2012|15699|   16154| -455|               -3.0|\n",
      "+----+-----+--------+-----+-------------------+\n",
      "\n"
     ]
    }
   ],
   "source": [
    "df_illness_problems = df_illness_problems.withColumn(\"Previous\", F.lag(df_illness_problems.Total).over(number_window))\n",
    "df_illness_problems = df_illness_problems.withColumn(\"diff\", F.when(F.isnull(df_illness_problems.Total - df_illness_problems.Previous), 0)\\\n",
    "                                                   .otherwise(df_illness_problems.Total - df_illness_problems.Previous))\n",
    "df_illness_problems.withColumn(\"perc_change_illness\",  sqlround((F.col(\"diff\") / F.col(\"Previous\"))*100)).show()"
   ]
  },
  {
   "cell_type": "markdown",
   "metadata": {},
   "source": [
    "Unfortunately, this analysis does not show a clear trend for the two causes of illness and family problems. In some years both show a negative growth in some years a positive growth. Nevertheless, one can see that the percentage growth for suicide due to illness is rather negative. "
   ]
  },
  {
   "cell_type": "markdown",
   "metadata": {},
   "source": [
    "Let's have a closer look at the percentage changes metrics to get a better feeling of the overall change in the time span of 11 years:"
   ]
  },
  {
   "cell_type": "markdown",
   "metadata": {},
   "source": [
    "For **Family problems**:"
   ]
  },
  {
   "cell_type": "code",
   "execution_count": 149,
   "metadata": {},
   "outputs": [],
   "source": [
    "df_family_aggs = df_family_problems.withColumn(\"perc_change\",  sqlround((F.col(\"diff\") / F.col(\"Previous\"))*100))"
   ]
  },
  {
   "cell_type": "code",
   "execution_count": 155,
   "metadata": {},
   "outputs": [
    {
     "name": "stdout",
     "output_type": "stream",
     "text": [
      "+---------------+---------------+----------------------+\n",
      "|min_perc_change|max_perc_change|avg_perc_change_family|\n",
      "+---------------+---------------+----------------------+\n",
      "|           -6.0|           21.0|                   3.0|\n",
      "+---------------+---------------+----------------------+\n",
      "\n"
     ]
    }
   ],
   "source": [
    "df_family_aggs.agg(min(\"perc_change\").alias(\"min_perc_change\"),\\\n",
    "                    max(\"perc_change\").alias(\"max_perc_change\"),\\\n",
    "                    sqlround(avg(\"perc_change\")).alias(\"avg_perc_change_family\"))\\\n",
    "               .show()"
   ]
  },
  {
   "cell_type": "markdown",
   "metadata": {},
   "source": [
    "For **Illness**:"
   ]
  },
  {
   "cell_type": "code",
   "execution_count": 151,
   "metadata": {},
   "outputs": [],
   "source": [
    "df_illness_aggs = df_illness_problems.withColumn(\"perc_change\",  sqlround((F.col(\"diff\") / F.col(\"Previous\"))*100))"
   ]
  },
  {
   "cell_type": "code",
   "execution_count": 156,
   "metadata": {},
   "outputs": [
    {
     "name": "stdout",
     "output_type": "stream",
     "text": [
      "+---------------+---------------+-----------------------+\n",
      "|min_perc_change|max_perc_change|avg_perc_change_illness|\n",
      "+---------------+---------------+-----------------------+\n",
      "|          -10.0|           11.0|                    0.0|\n",
      "+---------------+---------------+-----------------------+\n",
      "\n"
     ]
    }
   ],
   "source": [
    "df_illness_aggs.agg(min(\"perc_change\").alias(\"min_perc_change\"),\\\n",
    "                    max(\"perc_change\").alias(\"max_perc_change\"),\\\n",
    "                    sqlround(avg(\"perc_change\")).alias(\"avg_perc_change_illness\"))\\\n",
    "               .show()"
   ]
  },
  {
   "cell_type": "markdown",
   "metadata": {},
   "source": [
    "Finally, after checking the metrics for overall percentage change looking at both causes categories, there is clearly a difference. \n",
    "For Family problems we can see an average increase of 3% while for Illness the average is only at 0%."
   ]
  }
 ],
 "metadata": {
  "kernelspec": {
   "display_name": "Python 3",
   "language": "python",
   "name": "python3"
  },
  "language_info": {
   "codemirror_mode": {
    "name": "ipython",
    "version": 3
   },
   "file_extension": ".py",
   "mimetype": "text/x-python",
   "name": "python",
   "nbconvert_exporter": "python",
   "pygments_lexer": "ipython3",
   "version": "3.7.3"
  }
 },
 "nbformat": 4,
 "nbformat_minor": 4
}
